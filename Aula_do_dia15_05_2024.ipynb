{
  "nbformat": 4,
  "nbformat_minor": 0,
  "metadata": {
    "colab": {
      "provenance": [],
      "authorship_tag": "ABX9TyMEKBqdWA0ZyORlfhl/LgGv",
      "include_colab_link": true
    },
    "kernelspec": {
      "name": "python3",
      "display_name": "Python 3"
    },
    "language_info": {
      "name": "python"
    }
  },
  "cells": [
    {
      "cell_type": "markdown",
      "metadata": {
        "id": "view-in-github",
        "colab_type": "text"
      },
      "source": [
        "<a href=\"https://colab.research.google.com/github/joaoPedro095810/Aulas_PA/blob/main/Aula_do_dia15_05_2024.ipynb\" target=\"_parent\"><img src=\"https://colab.research.google.com/assets/colab-badge.svg\" alt=\"Open In Colab\"/></a>"
      ]
    },
    {
      "cell_type": "markdown",
      "source": [
        "Escreva um algoritmo que leva 20 valores inteiros ao final exiba:\n",
        "\n",
        "A) A soma dos números positivos;\n",
        "B) A quantidade de valores negativos."
      ],
      "metadata": {
        "id": "R6VU6AC2eUWA"
      }
    },
    {
      "cell_type": "code",
      "source": [
        "soma_positivos = 0\n",
        "qtde_negativos = 0\n",
        "soma_total = 0\n",
        "for x in range(1,6):\n",
        "  numero = int(input(\"Digite um número inteiro:\"))\n",
        "soma_total = soma_total + numero\n",
        "if numero < 0:\n",
        "    qtde_negativos += 1\n",
        "else:\n",
        "    soma_positivos = soma_positivos + numero\n",
        "print(\"Valor do x => \",x)\n",
        "\n",
        "media = soma_total/x\n",
        "print(\"A soma de positivos é :\",soma_positivos)\n",
        "print(\"A quantidades de negativo é :\",qtde_negativos)"
      ],
      "metadata": {
        "colab": {
          "base_uri": "https://localhost:8080/"
        },
        "id": "oIO-i-nQeu8x",
        "outputId": "adc3e093-f53d-43af-a05b-91bc9c43d8bf"
      },
      "execution_count": 18,
      "outputs": [
        {
          "output_type": "stream",
          "name": "stdout",
          "text": [
            "Digite um número ineteiro:2\n",
            "Digite um número ineteiro:2\n",
            "Digite um número ineteiro:2\n",
            "Digite um número ineteiro:-2\n",
            "Digite um número ineteiro:-2\n",
            "Valor do x =>  5\n",
            "A soma de positivos é : 0\n",
            "A quantidades de negativo é : 1\n"
          ]
        }
      ]
    },
    {
      "cell_type": "markdown",
      "source": [
        "Escreva um programa que solicite um número inteiro e positivo para o usuário  e na sequência o programa deve calcular um valor como mostrado no exemplo abaixo:\n",
        "\n",
        "Numero digitado: 4\n",
        "\n",
        "Valor = 1/1 + 1/2 + 1/3 + 1/4\n",
        "\n",
        "Valor = 2,08"
      ],
      "metadata": {
        "id": "EcsfN8b2lp-C"
      }
    },
    {
      "cell_type": "code",
      "source": [
        "valor = 0\n",
        "numero = int(input(\"Digite um número inteiro:\"))\n",
        "for i in range(1,numero+1):\n",
        "  valor = valor + 1/i\n",
        "print(\"Valor total: \",valor)\n",
        "\n"
      ],
      "metadata": {
        "colab": {
          "base_uri": "https://localhost:8080/"
        },
        "id": "OMbr-cMJmdxN",
        "outputId": "02a3c7a4-76d3-4426-e83f-21b33421e622"
      },
      "execution_count": 27,
      "outputs": [
        {
          "output_type": "stream",
          "name": "stdout",
          "text": [
            "Digite um número inteiro:4\n",
            "Valor total:  1.0\n",
            "Valor total:  1.5\n",
            "Valor total:  1.8333333333333333\n",
            "Valor total:  2.083333333333333\n"
          ]
        }
      ]
    },
    {
      "cell_type": "markdown",
      "source": [
        "# Trabalhando com strings em laços de repetição"
      ],
      "metadata": {
        "id": "SsxWVACCrfp0"
      }
    },
    {
      "cell_type": "code",
      "source": [
        "nome = \"João Pedro\"\n",
        "qtde_letras = len(nome)\n",
        "qtde_letras"
      ],
      "metadata": {
        "colab": {
          "base_uri": "https://localhost:8080/"
        },
        "id": "GR1PsgYgri_R",
        "outputId": "2b753930-33a5-4180-d878-9eb2e53281b1"
      },
      "execution_count": 28,
      "outputs": [
        {
          "output_type": "execute_result",
          "data": {
            "text/plain": [
              "10"
            ]
          },
          "metadata": {},
          "execution_count": 28
        }
      ]
    },
    {
      "cell_type": "code",
      "source": [
        "for letra in nome:\n",
        "  print(letra)"
      ],
      "metadata": {
        "colab": {
          "base_uri": "https://localhost:8080/"
        },
        "id": "NwZxEHTGuJf4",
        "outputId": "759034ee-bc15-4b10-8989-624ed2ab3f85"
      },
      "execution_count": 29,
      "outputs": [
        {
          "output_type": "stream",
          "name": "stdout",
          "text": [
            "J\n",
            "o\n",
            "ã\n",
            "o\n",
            " \n",
            "P\n",
            "e\n",
            "d\n",
            "r\n",
            "o\n"
          ]
        }
      ]
    },
    {
      "cell_type": "code",
      "source": [
        "nome = \"João Pedro de Andrade Ferreira\"\n",
        "nome"
      ],
      "metadata": {
        "colab": {
          "base_uri": "https://localhost:8080/",
          "height": 36
        },
        "id": "A6Sfd7omu762",
        "outputId": "7d658838-01bf-4fdb-c489-7e209b9d3cec"
      },
      "execution_count": 30,
      "outputs": [
        {
          "output_type": "execute_result",
          "data": {
            "text/plain": [
              "'João Pedro de Andrade Ferreira'"
            ],
            "application/vnd.google.colaboratory.intrinsic+json": {
              "type": "string"
            }
          },
          "metadata": {},
          "execution_count": 30
        }
      ]
    },
    {
      "cell_type": "code",
      "source": [
        "separado = nome.split()\n",
        "separado"
      ],
      "metadata": {
        "colab": {
          "base_uri": "https://localhost:8080/"
        },
        "id": "UVMmfplFv4wK",
        "outputId": "8ee86195-13c8-499b-f587-80cf3c109f49"
      },
      "execution_count": 31,
      "outputs": [
        {
          "output_type": "execute_result",
          "data": {
            "text/plain": [
              "['João', 'Pedro', 'de', 'Andrade', 'Ferreira']"
            ]
          },
          "metadata": {},
          "execution_count": 31
        }
      ]
    },
    {
      "cell_type": "code",
      "source": [
        "for nome in separado:\n",
        "  print(nome)"
      ],
      "metadata": {
        "colab": {
          "base_uri": "https://localhost:8080/"
        },
        "id": "g0q_2jLswB33",
        "outputId": "18ef6a49-f549-41c3-ea75-4ae6fac0a7c0"
      },
      "execution_count": 37,
      "outputs": [
        {
          "output_type": "stream",
          "name": "stdout",
          "text": [
            "João\n",
            "Pedro\n",
            "de\n",
            "Andrade\n",
            "Ferreira\n"
          ]
        }
      ]
    },
    {
      "cell_type": "code",
      "source": [
        "bandeira = False\n",
        "for verificador in \"Anderson\":\n",
        "  if verificador == \"e\":\n",
        "    print(\"Achei a letra e\")\n",
        "    break\n",
        "else:\n",
        "    bandeira = True\n",
        "\n",
        "if bandeira == False:\n",
        "  print(\"Existe\")\n",
        "else:\n",
        "  print(\"Não achei a letra e\")\n",
        "  print(\"Não existe\")"
      ],
      "metadata": {
        "colab": {
          "base_uri": "https://localhost:8080/"
        },
        "id": "6oTKnaQnxVpy",
        "outputId": "9c354095-0ee8-4720-fe5e-10878ce2c008"
      },
      "execution_count": 52,
      "outputs": [
        {
          "output_type": "stream",
          "name": "stdout",
          "text": [
            "Não achei a letra e\n",
            "Não existe\n"
          ]
        }
      ]
    }
  ]
}