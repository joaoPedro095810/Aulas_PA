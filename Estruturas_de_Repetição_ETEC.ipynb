{
  "nbformat": 4,
  "nbformat_minor": 0,
  "metadata": {
    "colab": {
      "provenance": [],
      "authorship_tag": "ABX9TyN6J0sUIrEkWORajQY7yYuo",
      "include_colab_link": true
    },
    "kernelspec": {
      "name": "python3",
      "display_name": "Python 3"
    },
    "language_info": {
      "name": "python"
    }
  },
  "cells": [
    {
      "cell_type": "markdown",
      "metadata": {
        "id": "view-in-github",
        "colab_type": "text"
      },
      "source": [
        "<a href=\"https://colab.research.google.com/github/joaoPedro095810/Aulas_PA/blob/main/Estruturas_de_Repeti%C3%A7%C3%A3o_ETEC.ipynb\" target=\"_parent\"><img src=\"https://colab.research.google.com/assets/colab-badge.svg\" alt=\"Open In Colab\"/></a>"
      ]
    },
    {
      "cell_type": "code",
      "execution_count": 3,
      "metadata": {
        "colab": {
          "base_uri": "https://localhost:8080/"
        },
        "id": "xPuBZcYUY5Aq",
        "outputId": "5bfd93f8-06cc-47bb-d7eb-4f954156f3c5"
      },
      "outputs": [
        {
          "output_type": "stream",
          "name": "stdout",
          "text": [
            "BOM DIA! \n",
            "BOM DIA! \n",
            "BOM DIA! \n",
            "BOM DIA! \n",
            "BOM DIA! \n",
            "BOM DIA! \n",
            "BOM DIA! \n",
            "BOM DIA! \n",
            "BOM DIA! \n",
            "BOM DIA! \n"
          ]
        }
      ],
      "source": [
        "# IMPRIMIR NA TELA A FRASE \"BOM DIA\" 10 VEZES\n",
        "\n",
        "print(\"BOM DIA! \")\n",
        "print(\"BOM DIA! \")\n",
        "print(\"BOM DIA! \")\n",
        "print(\"BOM DIA! \")\n",
        "print(\"BOM DIA! \")\n",
        "print(\"BOM DIA! \")\n",
        "print(\"BOM DIA! \")\n",
        "print(\"BOM DIA! \")\n",
        "print(\"BOM DIA! \")\n",
        "print(\"BOM DIA! \")"
      ]
    },
    {
      "cell_type": "code",
      "source": [
        "# LAÇO DE REPETIÇÃO FOR\n",
        "for i in range(1, 11):\n",
        "  #print(i)\n",
        "   print(i,\" -BOM DIA!\")"
      ],
      "metadata": {
        "colab": {
          "base_uri": "https://localhost:8080/"
        },
        "id": "yAFGp-FyZv7X",
        "outputId": "dd6097d1-b574-48d3-f99e-968f7602a177"
      },
      "execution_count": 9,
      "outputs": [
        {
          "output_type": "stream",
          "name": "stdout",
          "text": [
            "1  -BOM DIA!\n",
            "2  -BOM DIA!\n",
            "3  -BOM DIA!\n",
            "4  -BOM DIA!\n",
            "5  -BOM DIA!\n",
            "6  -BOM DIA!\n",
            "7  -BOM DIA!\n",
            "8  -BOM DIA!\n",
            "9  -BOM DIA!\n",
            "10  -BOM DIA!\n"
          ]
        }
      ]
    },
    {
      "cell_type": "code",
      "source": [
        "# MOSTRAR TODOS OS NÚMEORS ÍMPARES DE 1 A 30\n",
        "for i in range (1,31):\n",
        "  if i%2 == 1:\n",
        "    print(i)"
      ],
      "metadata": {
        "colab": {
          "base_uri": "https://localhost:8080/"
        },
        "id": "-2aCipO9biKp",
        "outputId": "5556387d-52e7-4cc0-bf62-f48206249d04"
      },
      "execution_count": 12,
      "outputs": [
        {
          "output_type": "stream",
          "name": "stdout",
          "text": [
            "1\n",
            "3\n",
            "5\n",
            "7\n",
            "9\n",
            "11\n",
            "13\n",
            "15\n",
            "17\n",
            "19\n",
            "21\n",
            "23\n",
            "25\n",
            "27\n",
            "29\n"
          ]
        }
      ]
    },
    {
      "cell_type": "code",
      "source": [
        "# CONTADOR DE UM NÚMERO INICIAL E UM NÚMERO FINAL\n",
        "# DIGITADOS PELO USUÁRIO\n",
        "\n",
        "\n",
        "inicio = int(input(\"Digite o 1º número: \"))\n",
        "fim = int(input(\"Digite o 2º número: \"))\n",
        "\n",
        "if inicio>fim:\n",
        "  aux = inicio\n",
        "  inicio = fim\n",
        "  fim = aux\n",
        "\n",
        "for x in range (inicio,fim+1):\n",
        "  print(x)"
      ],
      "metadata": {
        "colab": {
          "base_uri": "https://localhost:8080/"
        },
        "id": "IOQGqYoHfZaq",
        "outputId": "55a489a0-a92d-4dff-b1a7-f5b23567cbc6"
      },
      "execution_count": 16,
      "outputs": [
        {
          "output_type": "stream",
          "name": "stdout",
          "text": [
            "Digite o 1º número: 2\n",
            "Digite o 2º número: 7\n",
            "2\n",
            "3\n",
            "4\n",
            "5\n",
            "6\n",
            "7\n"
          ]
        }
      ]
    },
    {
      "cell_type": "code",
      "source": [
        "# SOME TODOS OS NÚMEROS DE 1 A 10\n",
        "soma = 0\n",
        "for a in range(1,11):\n",
        "  soma = soma + a\n",
        "  print('Acumulado => ',soma)\n",
        "print(\"total => \",soma)"
      ],
      "metadata": {
        "colab": {
          "base_uri": "https://localhost:8080/"
        },
        "id": "Yzi4JOx5jbnN",
        "outputId": "241bf24a-2b64-436e-86d0-5d2b621ce53f"
      },
      "execution_count": 21,
      "outputs": [
        {
          "output_type": "stream",
          "name": "stdout",
          "text": [
            "Acumulado =>  1\n",
            "Acumulado =>  3\n",
            "Acumulado =>  6\n",
            "Acumulado =>  10\n",
            "Acumulado =>  15\n",
            "Acumulado =>  21\n",
            "Acumulado =>  28\n",
            "Acumulado =>  36\n",
            "Acumulado =>  45\n",
            "Acumulado =>  55\n",
            "total =>  55\n"
          ]
        }
      ]
    },
    {
      "cell_type": "code",
      "source": [
        "# SOMA DE ÍMPARES DE 1 ATÉ 100\n",
        "soma = 0\n",
        "for x in range(1,101):\n",
        "   if x%2 == 1:\n",
        "    soma = soma + x\n",
        "   print(\"total => \", soma)"
      ],
      "metadata": {
        "colab": {
          "base_uri": "https://localhost:8080/"
        },
        "id": "BjJBCwL_nTJK",
        "outputId": "f038d8d3-3ab4-4a3b-d465-42a2816200db"
      },
      "execution_count": 42,
      "outputs": [
        {
          "output_type": "stream",
          "name": "stdout",
          "text": [
            "total =>  1\n",
            "total =>  1\n",
            "total =>  4\n",
            "total =>  4\n",
            "total =>  9\n",
            "total =>  9\n",
            "total =>  16\n",
            "total =>  16\n",
            "total =>  25\n",
            "total =>  25\n",
            "total =>  36\n",
            "total =>  36\n",
            "total =>  49\n",
            "total =>  49\n",
            "total =>  64\n",
            "total =>  64\n",
            "total =>  81\n",
            "total =>  81\n",
            "total =>  100\n",
            "total =>  100\n",
            "total =>  121\n",
            "total =>  121\n",
            "total =>  144\n",
            "total =>  144\n",
            "total =>  169\n",
            "total =>  169\n",
            "total =>  196\n",
            "total =>  196\n",
            "total =>  225\n",
            "total =>  225\n",
            "total =>  256\n",
            "total =>  256\n",
            "total =>  289\n",
            "total =>  289\n",
            "total =>  324\n",
            "total =>  324\n",
            "total =>  361\n",
            "total =>  361\n",
            "total =>  400\n",
            "total =>  400\n",
            "total =>  441\n",
            "total =>  441\n",
            "total =>  484\n",
            "total =>  484\n",
            "total =>  529\n",
            "total =>  529\n",
            "total =>  576\n",
            "total =>  576\n",
            "total =>  625\n",
            "total =>  625\n",
            "total =>  676\n",
            "total =>  676\n",
            "total =>  729\n",
            "total =>  729\n",
            "total =>  784\n",
            "total =>  784\n",
            "total =>  841\n",
            "total =>  841\n",
            "total =>  900\n",
            "total =>  900\n",
            "total =>  961\n",
            "total =>  961\n",
            "total =>  1024\n",
            "total =>  1024\n",
            "total =>  1089\n",
            "total =>  1089\n",
            "total =>  1156\n",
            "total =>  1156\n",
            "total =>  1225\n",
            "total =>  1225\n",
            "total =>  1296\n",
            "total =>  1296\n",
            "total =>  1369\n",
            "total =>  1369\n",
            "total =>  1444\n",
            "total =>  1444\n",
            "total =>  1521\n",
            "total =>  1521\n",
            "total =>  1600\n",
            "total =>  1600\n",
            "total =>  1681\n",
            "total =>  1681\n",
            "total =>  1764\n",
            "total =>  1764\n",
            "total =>  1849\n",
            "total =>  1849\n",
            "total =>  1936\n",
            "total =>  1936\n",
            "total =>  2025\n",
            "total =>  2025\n",
            "total =>  2116\n",
            "total =>  2116\n",
            "total =>  2209\n",
            "total =>  2209\n",
            "total =>  2304\n",
            "total =>  2304\n",
            "total =>  2401\n",
            "total =>  2401\n",
            "total =>  2500\n",
            "total =>  2500\n"
          ]
        }
      ]
    },
    {
      "cell_type": "code",
      "source": [
        "# CONTADOR DE 1 A 10 COM WHILE\n",
        "\n",
        "num = 1\n",
        "while (num <= 100):\n",
        "  print(num)\n",
        "  #num = num + 1\n",
        "  num += 1"
      ],
      "metadata": {
        "id": "gd_dhjLkqQOR"
      },
      "execution_count": null,
      "outputs": []
    },
    {
      "cell_type": "code",
      "source": [
        "# DIGITE NÚMEROS ATÉ QUE O USUÁRIO DIGITE 0\n",
        "numero = int(input('Digite um número'))\n",
        "soma = numero\n",
        "while numero != 0:\n",
        "  numero = int(input('Digite um numero'))\n",
        "  soma += numero\n",
        "print(\"Total = \" ,soma)"
      ],
      "metadata": {
        "colab": {
          "base_uri": "https://localhost:8080/"
        },
        "id": "PZWSqeEhrCNQ",
        "outputId": "6c2e3d93-eb7a-403f-a5f8-578a3dd21970"
      },
      "execution_count": 1,
      "outputs": [
        {
          "output_type": "stream",
          "name": "stdout",
          "text": [
            "Digite um número21332\n",
            "Digite um numero545\n",
            "Digite um numero0\n",
            "Total =  21877\n"
          ]
        }
      ]
    },
    {
      "cell_type": "code",
      "source": [
        "# CRIANDO UM MENU DE OPÇÕES\n",
        "print(\"ESCOLHA UMA OPÇÃO\")\n",
        "print(\"DIGITE 1 PARA OBÇÃO 01\")\n",
        "print(\"DIGITE 2 PARA OBÇÃO 02\")\n",
        "print(\"DIGITE 3 PARA OBÇÃO 03\")\n",
        "print(\"DIGITE 4 PARA SAIR\")\n",
        "opcao = int(input(\"Sua opção =\"))\n",
        "\n",
        "if opcao == 1 :\n",
        "  print(\"Você escolheu a opção 01\")\n",
        "  print()\n",
        "  print(\"********************\")\n",
        "if opcao == 2 :\n",
        "  print(\"Você escolheu a opção 02\")\n",
        "  print()\n",
        "  print(\"********************\")\n",
        "if opcao == 3 :\n",
        "  print(\"Você escolheu a opção 03\")\n",
        "  print()\n",
        "  print(\"********************\")"
      ],
      "metadata": {
        "colab": {
          "base_uri": "https://localhost:8080/"
        },
        "id": "8zFDfRNh1vZX",
        "outputId": "97d3a7ee-eebf-460a-9a3d-7d325a71b1b3"
      },
      "execution_count": 5,
      "outputs": [
        {
          "output_type": "stream",
          "name": "stdout",
          "text": [
            "ESCOLHA UMA OPÇÃO\n",
            "DIGITE 1 PARA OBÇÃO 01\n",
            "DIGITE 2 PARA OBÇÃO 02\n",
            "DIGITE 3 PARA OBÇÃO 03\n",
            "DIGITE 4 PARA SAIR\n",
            "Sua opção =1\n",
            "Você escolheu a opção 01\n",
            "\n",
            "********************\n"
          ]
        }
      ]
    }
  ]
}