{
  "nbformat": 4,
  "nbformat_minor": 0,
  "metadata": {
    "colab": {
      "provenance": [],
      "include_colab_link": true
    },
    "kernelspec": {
      "name": "python3",
      "display_name": "Python 3"
    },
    "language_info": {
      "name": "python"
    }
  },
  "cells": [
    {
      "cell_type": "markdown",
      "metadata": {
        "id": "view-in-github",
        "colab_type": "text"
      },
      "source": [
        "<a href=\"https://colab.research.google.com/github/joaoPedro095810/Aulas_PA/blob/main/fun%C3%A7%C3%A3o_e_par%C3%A2metro.ipynb\" target=\"_parent\"><img src=\"https://colab.research.google.com/assets/colab-badge.svg\" alt=\"Open In Colab\"/></a>"
      ]
    },
    {
      "cell_type": "markdown",
      "source": [
        "FUNÇÃO SEM RETORNO E SEM PARÂMETRO\n",
        "\n"
      ],
      "metadata": {
        "id": "cM6uKtFebp4H"
      }
    },
    {
      "cell_type": "code",
      "execution_count": null,
      "metadata": {
        "colab": {
          "base_uri": "https://localhost:8080/"
        },
        "id": "GRsVA4tpbm_S",
        "outputId": "88549e49-27d5-4c8c-e32b-ef0d7de860fb"
      },
      "outputs": [
        {
          "output_type": "stream",
          "name": "stdout",
          "text": [
            "Bom dia\n"
          ]
        }
      ],
      "source": [
        "def msg():\n",
        "  print(\"Bom dia\")\n",
        "\n",
        "msg()"
      ]
    },
    {
      "cell_type": "markdown",
      "source": [
        "FUNÇÃO SEM RETORNO E COM PARÂMETRO"
      ],
      "metadata": {
        "id": "2ZNF-m4kcB0X"
      }
    },
    {
      "cell_type": "code",
      "source": [
        "def potencia(base,expoente) :\n",
        "  resultado = base ** expoente\n",
        "  print (\"O resultado é :\",resultado)\n",
        "\n",
        "potencia (2,3)"
      ],
      "metadata": {
        "colab": {
          "base_uri": "https://localhost:8080/"
        },
        "id": "3jam7MJfcGhL",
        "outputId": "e1b662dc-bae5-45b9-96d5-9ff6e82f9443"
      },
      "execution_count": null,
      "outputs": [
        {
          "output_type": "stream",
          "name": "stdout",
          "text": [
            "O resultado é : 8\n"
          ]
        }
      ]
    },
    {
      "cell_type": "code",
      "source": [
        "def raiz(num) :\n",
        "  raiz = num ** 0.5\n",
        "  print(\"A raiz quadrada de \",num,\" é igual a \",raiz)\n",
        "\n",
        "raiz(9)"
      ],
      "metadata": {
        "colab": {
          "base_uri": "https://localhost:8080/"
        },
        "id": "2tgDCkTvdQ4h",
        "outputId": "b8f69df3-5499-4970-9546-97984523eee1"
      },
      "execution_count": null,
      "outputs": [
        {
          "output_type": "stream",
          "name": "stdout",
          "text": [
            "A raiz quadrada de  9  é igual a  3.0\n"
          ]
        }
      ]
    },
    {
      "cell_type": "markdown",
      "source": [
        "FUNÃO COM RETORNO E COM PARÂMETROS"
      ],
      "metadata": {
        "id": "-516qlEgeh0M"
      }
    },
    {
      "cell_type": "code",
      "source": [
        "def somar(x,y):\n",
        "  soma = x + y\n",
        "  return soma\n",
        "\n",
        "print (\"Exemplo com retorno\")\n",
        "num1 = int(input(\"Digite o primeiro número: \"))\n",
        "num2 = int(input(\"Digite o segundo número: \"))\n",
        "retorno = somar (num1,num2)\n",
        "print(\"Voltou da função: \",retorno)"
      ],
      "metadata": {
        "colab": {
          "base_uri": "https://localhost:8080/"
        },
        "id": "MAsgFfu8emIN",
        "outputId": "9393f67d-13e8-4450-a0fb-32f4a6d764fb"
      },
      "execution_count": null,
      "outputs": [
        {
          "output_type": "stream",
          "name": "stdout",
          "text": [
            "Exemplo com retorno\n",
            "Digite o primeiro número: 4\n",
            "Digite o segundo número: 5\n",
            "Voltou da função:  9\n"
          ]
        }
      ]
    },
    {
      "cell_type": "markdown",
      "source": [
        "AGORA A VEZ DE VOCÊS...\n",
        "\n",
        "COM BASE NO EXEMPLO ANTERIOR, CRIE UM PROGRAMA QUE PEÇA 3 VEZES DOIS NÚMEROS E ULTILIZE A FUNÇÃO ACIMA PARA SOMA-LOS E EXIBIR NA TELA O RESULTADO"
      ],
      "metadata": {
        "id": "JYj2o5esgrm8"
      }
    },
    {
      "cell_type": "code",
      "source": [
        "def somar(x,y):\n",
        "  soma = x + y\n",
        "  return soma\n",
        "\n",
        "print (\"Exemplo com retorno\")\n",
        "for i in range (3):\n",
        " num1 = int(input(\"Digite o primeiro número: \"))\n",
        " num2 = int(input(\"Digite o segundo número: \"))\n",
        " retorno = somar (num1,num2)\n",
        " print(\"Voltou da função: \",retorno)"
      ],
      "metadata": {
        "colab": {
          "base_uri": "https://localhost:8080/"
        },
        "id": "uUOYyReghR6f",
        "outputId": "aee98a62-ba24-4bd0-8d69-55390c66a28e"
      },
      "execution_count": null,
      "outputs": [
        {
          "output_type": "stream",
          "name": "stdout",
          "text": [
            "Exemplo com retorno\n",
            "Digite o primeiro número: 15\n",
            "Digite o segundo número: 15\n",
            "Voltou da função:  30\n",
            "Digite o primeiro número: 09\n",
            "Digite o segundo número: 90\n",
            "Voltou da função:  99\n",
            "Digite o primeiro número: 6\n",
            "Digite o segundo número: 7\n",
            "Voltou da função:  13\n"
          ]
        }
      ]
    }
  ]
}