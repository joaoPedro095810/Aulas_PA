{
  "nbformat": 4,
  "nbformat_minor": 0,
  "metadata": {
    "colab": {
      "provenance": [],
      "authorship_tag": "ABX9TyNdlpP70e0Dy5oRnZbEvJE8",
      "include_colab_link": true
    },
    "kernelspec": {
      "name": "python3",
      "display_name": "Python 3"
    },
    "language_info": {
      "name": "python"
    }
  },
  "cells": [
    {
      "cell_type": "markdown",
      "metadata": {
        "id": "view-in-github",
        "colab_type": "text"
      },
      "source": [
        "<a href=\"https://colab.research.google.com/github/joaoPedro095810/Aulas_PA/blob/main/exe08_VELOCIDADE.ipynb\" target=\"_parent\"><img src=\"https://colab.research.google.com/assets/colab-badge.svg\" alt=\"Open In Colab\"/></a>"
      ]
    },
    {
      "cell_type": "code",
      "execution_count": null,
      "metadata": {
        "colab": {
          "base_uri": "https://localhost:8080/"
        },
        "id": "f7r8Ec7hPopR",
        "outputId": "238dec8a-66cf-40da-8050-1b9a818741ad"
      },
      "outputs": [
        {
          "output_type": "stream",
          "name": "stdout",
          "text": [
            "Digite o valor da peça: 10\n",
            "Digite a quantidade de peças: 7\n",
            "O valor final é de 70.0\n"
          ]
        }
      ],
      "source": [
        "valor = float(input(\"Digite o valor da peça: \"))\n",
        "qtde = float(input(\"Digite a quantidade de peças: \"))\n",
        "vt = qtde*valor\n",
        "print(\"O valor final é de\" , vt)"
      ]
    },
    {
      "cell_type": "code",
      "source": [
        "qtdemin = float(input(\"Digite a quantidade mínima de peça: \"))\n",
        "qmaxima = float (input(\"Digite a quantidade máxima de peça: \"))\n",
        "estoquemedio = (qtdemin+qmaxima)/2\n",
        "print(\"O estoque médio de peça é de:\" , estoquemedio)"
      ],
      "metadata": {
        "colab": {
          "base_uri": "https://localhost:8080/"
        },
        "id": "dHrfxJGeWWe9",
        "outputId": "fb7516c8-8885-4539-e2f7-10e13e3dd34d"
      },
      "execution_count": null,
      "outputs": [
        {
          "output_type": "stream",
          "name": "stdout",
          "text": [
            "Digite a quantidade mínima de peça: 30.5\n",
            "Digite a quantidade máxima de peça: 200.7\n",
            "O estoque médio de peça é de: 115.6\n"
          ]
        }
      ]
    },
    {
      "cell_type": "code",
      "source": [
        "dolar = float(input(\"Digite a cotação do dólar: \"))\n",
        "real = float(input(\"Digete o valor que você quer converter em dolar: \"))\n",
        "converta = dolar*real\n",
        "print(\"resultado:\" , converta)"
      ],
      "metadata": {
        "colab": {
          "base_uri": "https://localhost:8080/"
        },
        "id": "8gd_R_btYU4M",
        "outputId": "3bac55c5-4504-4a82-d280-29bd752f9ebe"
      },
      "execution_count": null,
      "outputs": [
        {
          "output_type": "stream",
          "name": "stdout",
          "text": [
            "Digite a cotação do dólar: 4.7\n",
            "Digete o valor que você quer converter em dolar: 1289.1\n",
            "resultado: 6058.7699999999995\n"
          ]
        }
      ]
    },
    {
      "cell_type": "code",
      "source": [
        "n1 = float(input(\"Digite o 1º número: \"))\n",
        "n2 = float(input(\"Digite o 2º número: \"))\n",
        "n3 = float(input(\"Digite o 3º número: \"))\n",
        "n4 = float(input(\"Digite o 4º número: \"))\n",
        "quadrado = n1*n1+n2*n2+n3*n3+n4*n4\n",
        "\n",
        "print(\"Resposta: \" , quadrado)"
      ],
      "metadata": {
        "colab": {
          "base_uri": "https://localhost:8080/"
        },
        "id": "QLPeRLewaLFu",
        "outputId": "2ee5fec7-62c7-4828-da92-48240d56dba2"
      },
      "execution_count": null,
      "outputs": [
        {
          "output_type": "stream",
          "name": "stdout",
          "text": [
            "Digite o 1º número: 2\n",
            "Digite o 2º número: 3\n",
            "Digite o 3º número: 4\n",
            "Digite o 4º número: 5\n",
            "Resposta:  54.0\n"
          ]
        }
      ]
    },
    {
      "cell_type": "code",
      "source": [
        "valor = float(input(\"Digite o preço unitario da peça: \"))\n",
        "quant = float(input(\"Digite a Quantidade vendida: \"))\n",
        "venda = valor*quant\n",
        "comissao = venda*0.05\n",
        "\n",
        "print(\"Resposta comissão: \", comissao)\n",
        "print(\"Resposta venda: \", venda)"
      ],
      "metadata": {
        "id": "a2V9ZYhkdemu",
        "colab": {
          "base_uri": "https://localhost:8080/"
        },
        "outputId": "54353b34-71ee-4d11-eb95-ba82c3d8fc20"
      },
      "execution_count": 6,
      "outputs": [
        {
          "output_type": "stream",
          "name": "stdout",
          "text": [
            "Digite o preço unitario da peça: 2.5\n",
            "Digite a Quantidade vendida: 200\n",
            "Resposta comissão:  25.0\n",
            "Resposta venda:  500.0\n"
          ]
        }
      ]
    },
    {
      "cell_type": "code",
      "source": [
        "valor = float(input(\"Digite o custo de fábrica do carro: \"))\n",
        "imposto = valor*0.45\n",
        "total = imposto+valor\n",
        "distribuicao = total*0.28\n",
        "final = distribuicao+total\n",
        "\n",
        "print(\"Imposto: \", total)\n",
        "\n",
        "print(\"Distribuição: \", distribuicao)\n",
        "\n",
        "print(\"Para o consumidor: \", final)\n",
        "\n",
        "\n"
      ],
      "metadata": {
        "colab": {
          "base_uri": "https://localhost:8080/"
        },
        "id": "XXpDuuGDG3RG",
        "outputId": "60b5ba48-a029-45dc-c846-e308bf4db611"
      },
      "execution_count": 9,
      "outputs": [
        {
          "output_type": "stream",
          "name": "stdout",
          "text": [
            "Digite o custo de fábrica do carro: 25000\n",
            "Imposto:  36250.0\n",
            "Distribuição:  10150.000000000002\n",
            "Para o consumidor:  46400.0\n"
          ]
        }
      ]
    },
    {
      "cell_type": "code",
      "source": [
        "hr = float(input(\"Digite a quantidade de horas: \"))\n",
        "min = float(input(\"Digite a Quantidade minutos: \"))\n",
        "conversao = hr+min/60\n",
        "\n",
        "print(\"Conclusão: \", conversao)"
      ],
      "metadata": {
        "colab": {
          "base_uri": "https://localhost:8080/"
        },
        "id": "gO36_XXdJJHG",
        "outputId": "199a6fa3-7a0d-4492-ebeb-3bcdbef3682e"
      },
      "execution_count": 10,
      "outputs": [
        {
          "output_type": "stream",
          "name": "stdout",
          "text": [
            "Digite a quantidade de horas: 3\n",
            "Digite a Quantidade minutos: 40\n",
            "Conclusão:  3.6666666666666665\n"
          ]
        }
      ]
    },
    {
      "cell_type": "code",
      "source": [
        "hr = float(input(\"Digite a quantidade de horas que você trabalhou esse mês: \"))\n",
        "min = float(input(\"Digite a Quantidade minutos que você trabalhou esse mês: \"))\n",
        "ganho = float(input(\"Digite valor ganho por hora: \"))\n",
        "hrtra = hr+min/60\n",
        "hrextra = (hrtra*ganho)*0.7\n",
        "total = hrextra+hrtra*ganho\n",
        "\n",
        "print(\"você deve ganhar: \" , total)"
      ],
      "metadata": {
        "colab": {
          "base_uri": "https://localhost:8080/"
        },
        "id": "BLldXBhRKQvN",
        "outputId": "3c66c787-b59a-4c41-d4d3-33a192890a77"
      },
      "execution_count": 15,
      "outputs": [
        {
          "output_type": "stream",
          "name": "stdout",
          "text": [
            "Digite a quantidade de horas que você trabalhou esse mês: 15\n",
            "Digite a Quantidade minutos que você trabalhou esse mês: 45\n",
            "Digite valor ganho por hora: 25\n",
            "você deve ganhar:  669.375\n"
          ]
        }
      ]
    },
    {
      "cell_type": "code",
      "source": [
        "km_per = float(input(\"Digite, Quilômetros a percorrer: \"))\n",
        "consome = float(input(\"Digite a Quantidade que seu carrro consome de gasolina: \"))\n",
        "preço_gas = float(input(\"Digite o preço Médio da  gasolina: \"))"
      ],
      "metadata": {
        "id": "paCUTshUOa_j"
      },
      "execution_count": null,
      "outputs": []
    }
  ]
}