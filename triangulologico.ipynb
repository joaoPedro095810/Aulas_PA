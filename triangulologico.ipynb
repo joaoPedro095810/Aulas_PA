{
  "nbformat": 4,
  "nbformat_minor": 0,
  "metadata": {
    "colab": {
      "provenance": [],
      "authorship_tag": "ABX9TyNrSkPfkNSv7xdqbv7b2ooK",
      "include_colab_link": true
    },
    "kernelspec": {
      "name": "python3",
      "display_name": "Python 3"
    },
    "language_info": {
      "name": "python"
    }
  },
  "cells": [
    {
      "cell_type": "markdown",
      "metadata": {
        "id": "view-in-github",
        "colab_type": "text"
      },
      "source": [
        "<a href=\"https://colab.research.google.com/github/joaoPedro095810/Aulas_PA/blob/main/triangulologico.ipynb\" target=\"_parent\"><img src=\"https://colab.research.google.com/assets/colab-badge.svg\" alt=\"Open In Colab\"/></a>"
      ]
    },
    {
      "cell_type": "code",
      "execution_count": 22,
      "metadata": {
        "colab": {
          "base_uri": "https://localhost:8080/"
        },
        "id": "Oq-PU0xcSxaz",
        "outputId": "cd0f7cdb-7533-4af8-f783-0cdf7b2e7f36"
      },
      "outputs": [
        {
          "output_type": "stream",
          "name": "stdout",
          "text": [
            "Digite o primeiro lado do triângulo:2\n",
            "Digite o segundo lado do triângulo:2\n",
            "Digite o terceiro lado do triângulo:3\n",
            "É um triângulo: True\n",
            "É um triângulo isósceles: True\n",
            "É um triângulo escaleno: False\n"
          ]
        }
      ],
      "source": [
        "a = float(input(\"Digite o primeiro lado do triângulo:\"))\n",
        "b = float(input(\"Digite o segundo lado do triângulo:\"))\n",
        "c = float(input(\"Digite o terceiro lado do triângulo:\"))\n",
        "\n",
        "triangulo = a<b+c and b<a+c and c<a+b\n",
        "print(\"É um triângulo:\",triangulo)\n",
        "\n",
        "#isosceles\n",
        "\n",
        "isosceles = ((a==b) ^ (a==c) and (b!=c) or (a!=c))\n",
        "print(\"É um triângulo isósceles:\",isosceles)\n",
        "\n",
        "#escalenos\n",
        "\n",
        "escaleno = a!=b and a!=c and b!=c\n",
        "print(\"É um triângulo escaleno:\",escaleno)"
      ]
    }
  ]
}