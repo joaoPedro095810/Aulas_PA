{
  "nbformat": 4,
  "nbformat_minor": 0,
  "metadata": {
    "colab": {
      "provenance": [],
      "authorship_tag": "ABX9TyOFpVLdtPRg8pYn6LJJsf4n",
      "include_colab_link": true
    },
    "kernelspec": {
      "name": "python3",
      "display_name": "Python 3"
    },
    "language_info": {
      "name": "python"
    }
  },
  "cells": [
    {
      "cell_type": "markdown",
      "metadata": {
        "id": "view-in-github",
        "colab_type": "text"
      },
      "source": [
        "<a href=\"https://colab.research.google.com/github/joaoPedro095810/Aulas_PA/blob/main/22_05.ipynb\" target=\"_parent\"><img src=\"https://colab.research.google.com/assets/colab-badge.svg\" alt=\"Open In Colab\"/></a>"
      ]
    },
    {
      "cell_type": "markdown",
      "source": [
        "Faça um contador de 1 até 10 ulilizndo os laços FOR e WHILE"
      ],
      "metadata": {
        "id": "9tWAMQeRe1x9"
      }
    },
    {
      "cell_type": "code",
      "source": [
        "# CONTADOR DE 1 A 10 COM FOR\n",
        "for i in range (1,11):\n",
        "  print(i,end='-')"
      ],
      "metadata": {
        "colab": {
          "base_uri": "https://localhost:8080/"
        },
        "id": "Z7tdhwXtfVEQ",
        "outputId": "dde0c710-60c1-4cf8-f85d-fc468e357f56"
      },
      "execution_count": null,
      "outputs": [
        {
          "output_type": "stream",
          "name": "stdout",
          "text": [
            "1-2-3-4-5-6-7-8-9-10-"
          ]
        }
      ]
    },
    {
      "cell_type": "code",
      "execution_count": null,
      "metadata": {
        "colab": {
          "base_uri": "https://localhost:8080/"
        },
        "id": "vFORGfP5el6F",
        "outputId": "3c7d2ae8-84bc-433f-dfe3-21c8d36ade81"
      },
      "outputs": [
        {
          "output_type": "stream",
          "name": "stdout",
          "text": [
            "1\n",
            "2\n",
            "3\n",
            "4\n",
            "5\n",
            "6\n",
            "7\n",
            "8\n",
            "9\n",
            "10\n"
          ]
        }
      ],
      "source": [
        "# CONTADOR DE 1 A 10 COM WHILE\n",
        "\n",
        "num = 1\n",
        "while (num <= 10):\n",
        "  print(num)\n",
        "  num += 1"
      ]
    },
    {
      "cell_type": "markdown",
      "source": [
        "Faça o contador acima de 0 até 9 só que agora imprimindo a seguinte mensagem:\n",
        "\n",
        "Volta nº 1 ==> 0\n",
        "\n",
        "Volta nº 2 ==> 1\n",
        "\n",
        "Volta nº 3 ==> 2\n",
        "\n",
        "...\n",
        "\n",
        "Volta nº 10 ==> 9"
      ],
      "metadata": {
        "id": "I17mE8wqhVE8"
      }
    },
    {
      "cell_type": "code",
      "source": [
        "for i in range (1,10):\n",
        "  print(f\"Volta nº {i+1} ==> {1}\")"
      ],
      "metadata": {
        "colab": {
          "base_uri": "https://localhost:8080/"
        },
        "id": "mRcGyGbmiFyr",
        "outputId": "fa9b677f-c229-4dff-9bf9-b1583e86f184"
      },
      "execution_count": null,
      "outputs": [
        {
          "output_type": "stream",
          "name": "stdout",
          "text": [
            "Volta nº 2 ==> 1\n",
            "Volta nº 3 ==> 1\n",
            "Volta nº 4 ==> 1\n",
            "Volta nº 5 ==> 1\n",
            "Volta nº 6 ==> 1\n",
            "Volta nº 7 ==> 1\n",
            "Volta nº 8 ==> 1\n",
            "Volta nº 9 ==> 1\n",
            "Volta nº 10 ==> 1\n"
          ]
        }
      ]
    },
    {
      "cell_type": "markdown",
      "source": [
        "Faça o contador acima de 0 até 9 só que agora imprimindo a seguinte mensagem:\n",
        "\n",
        "Volta nº 1 ==> 0==> PAR\n",
        "\n",
        "Volta nº 2 ==> 1\n",
        "\n",
        "Volta nº 3 ==> 2==> PAR\n",
        "\n",
        "...\n",
        "\n",
        "Volta nº 10 ==> 9"
      ],
      "metadata": {
        "id": "uq-R4rp_j9A2"
      }
    },
    {
      "cell_type": "code",
      "source": [
        "for i in range(10):\n",
        "  if i % 2 == 0:\n",
        "    print(f\"Volta nº {i+1} ==> PAR\")\n",
        "  else:\n",
        "    print(f'Volta nº {i+1} ==> {i}')"
      ],
      "metadata": {
        "colab": {
          "base_uri": "https://localhost:8080/"
        },
        "id": "vv0GV3ThkFOh",
        "outputId": "e7268980-b08f-4270-9f55-bcebae1b9d18"
      },
      "execution_count": null,
      "outputs": [
        {
          "output_type": "stream",
          "name": "stdout",
          "text": [
            "Volta nº 1 ==> PAR\n",
            "Volta nº 2 ==> 1\n",
            "Volta nº 3 ==> PAR\n",
            "Volta nº 4 ==> 3\n",
            "Volta nº 5 ==> PAR\n",
            "Volta nº 6 ==> 5\n",
            "Volta nº 7 ==> PAR\n",
            "Volta nº 8 ==> 7\n",
            "Volta nº 9 ==> PAR\n",
            "Volta nº 10 ==> 9\n"
          ]
        }
      ]
    },
    {
      "cell_type": "markdown",
      "source": [
        "Faça um programa que mostre a soma de 1 ate 100"
      ],
      "metadata": {
        "id": "m4EZcqeCl76w"
      }
    },
    {
      "cell_type": "code",
      "source": [
        "soma = 0\n",
        "for i in range(1,101):\n",
        "    soma += i\n",
        "    print(\"total => \", soma)"
      ],
      "metadata": {
        "colab": {
          "base_uri": "https://localhost:8080/"
        },
        "id": "L8WuvP20mCUX",
        "outputId": "67bda61e-4df2-4530-fcf5-8b99d8cf8097"
      },
      "execution_count": null,
      "outputs": [
        {
          "output_type": "stream",
          "name": "stdout",
          "text": [
            "total =>  1\n",
            "total =>  3\n",
            "total =>  6\n",
            "total =>  10\n",
            "total =>  15\n",
            "total =>  21\n",
            "total =>  28\n",
            "total =>  36\n",
            "total =>  45\n",
            "total =>  55\n",
            "total =>  66\n",
            "total =>  78\n",
            "total =>  91\n",
            "total =>  105\n",
            "total =>  120\n",
            "total =>  136\n",
            "total =>  153\n",
            "total =>  171\n",
            "total =>  190\n",
            "total =>  210\n",
            "total =>  231\n",
            "total =>  253\n",
            "total =>  276\n",
            "total =>  300\n",
            "total =>  325\n",
            "total =>  351\n",
            "total =>  378\n",
            "total =>  406\n",
            "total =>  435\n",
            "total =>  465\n",
            "total =>  496\n",
            "total =>  528\n",
            "total =>  561\n",
            "total =>  595\n",
            "total =>  630\n",
            "total =>  666\n",
            "total =>  703\n",
            "total =>  741\n",
            "total =>  780\n",
            "total =>  820\n",
            "total =>  861\n",
            "total =>  903\n",
            "total =>  946\n",
            "total =>  990\n",
            "total =>  1035\n",
            "total =>  1081\n",
            "total =>  1128\n",
            "total =>  1176\n",
            "total =>  1225\n",
            "total =>  1275\n",
            "total =>  1326\n",
            "total =>  1378\n",
            "total =>  1431\n",
            "total =>  1485\n",
            "total =>  1540\n",
            "total =>  1596\n",
            "total =>  1653\n",
            "total =>  1711\n",
            "total =>  1770\n",
            "total =>  1830\n",
            "total =>  1891\n",
            "total =>  1953\n",
            "total =>  2016\n",
            "total =>  2080\n",
            "total =>  2145\n",
            "total =>  2211\n",
            "total =>  2278\n",
            "total =>  2346\n",
            "total =>  2415\n",
            "total =>  2485\n",
            "total =>  2556\n",
            "total =>  2628\n",
            "total =>  2701\n",
            "total =>  2775\n",
            "total =>  2850\n",
            "total =>  2926\n",
            "total =>  3003\n",
            "total =>  3081\n",
            "total =>  3160\n",
            "total =>  3240\n",
            "total =>  3321\n",
            "total =>  3403\n",
            "total =>  3486\n",
            "total =>  3570\n",
            "total =>  3655\n",
            "total =>  3741\n",
            "total =>  3828\n",
            "total =>  3916\n",
            "total =>  4005\n",
            "total =>  4095\n",
            "total =>  4186\n",
            "total =>  4278\n",
            "total =>  4371\n",
            "total =>  4465\n",
            "total =>  4560\n",
            "total =>  4656\n",
            "total =>  4753\n",
            "total =>  4851\n",
            "total =>  4950\n",
            "total =>  5050\n"
          ]
        }
      ]
    },
    {
      "cell_type": "markdown",
      "source": [
        "Faça um programa que receba um número inteiro digitado pelo usuário e informe se este número é Primo ou não"
      ],
      "metadata": {
        "id": "PaH88RzAmet2"
      }
    },
    {
      "cell_type": "code",
      "source": [
        "qtde = 0\n",
        "numero = int(input('Digite um número inteiro:'))\n",
        "\n",
        "if (numero< 0):\n",
        "  print(\"NÚMERO INVÁLIDO, DEVE SER POSITIVO!\")\n",
        "else:\n",
        "    for i in range (1,numero+1):\n",
        "     resto = numero % i\n",
        "     print(f\"resto da divisão de {numero} por {i} = {resto}\")\n",
        "    if resto == 0:\n",
        "      qtde +=1\n",
        "    print(\"f, Quantidade de restos igual a o {qntde}\")\n",
        "    if qtde == 2:\n",
        "      print(f'O número {numero} É PRIMO')\n",
        "    else:\n",
        "      print(f'O número {numero} NÃO É PRIMO')\n"
      ],
      "metadata": {
        "colab": {
          "base_uri": "https://localhost:8080/"
        },
        "id": "aboLDGINm0d7",
        "outputId": "f0a59a6d-c6ec-46f0-8ba9-642262813c2c"
      },
      "execution_count": null,
      "outputs": [
        {
          "output_type": "stream",
          "name": "stdout",
          "text": [
            "Digite um número inteiro:5\n",
            "resto da divisão de 5 por 1 = 0\n",
            "resto da divisão de 5 por 2 = 1\n",
            "resto da divisão de 5 por 3 = 2\n",
            "resto da divisão de 5 por 4 = 1\n",
            "resto da divisão de 5 por 5 = 0\n",
            "f, Quantidade de restos igual a o {qntde}\n",
            "O número 5 NÃO É PRIMO\n"
          ]
        }
      ]
    },
    {
      "cell_type": "markdown",
      "source": [
        "Escreva um programa que imprima o  n-ésimo elemento de uma serie de Fibacci. Esse valor será digitado pelo usuario.\n",
        "\n",
        "Exemplo:\n",
        "\n",
        "Numero = 4\n",
        "\n",
        "Saída: 1 - 1 - 2 - 3\n",
        "\n",
        "Numero = 5\n",
        "\n",
        "Saída = 1 - 1 - 2 - 3 - 5"
      ],
      "metadata": {
        "id": "HlKcQVf9zt2n"
      }
    },
    {
      "cell_type": "code",
      "source": [
        "n = int(input(\"Digite o seu valor:\"))\n",
        "\n",
        "ant = 1\n",
        "atu = 0\n",
        "soma = 0\n",
        "\n",
        "for i in range (1,n,1):\n",
        "  soma = ant + atu\n",
        "  ant = atu\n",
        "  atu = soma\n",
        "  print(soma)"
      ],
      "metadata": {
        "colab": {
          "base_uri": "https://localhost:8080/"
        },
        "id": "FdX40tR41_Dn",
        "outputId": "f26699c0-dfef-47bf-e45b-6290a7dae8ad"
      },
      "execution_count": null,
      "outputs": [
        {
          "output_type": "stream",
          "name": "stdout",
          "text": [
            "Digite o seu valor:5\n",
            "1\n",
            "1\n",
            "2\n",
            "3\n"
          ]
        }
      ]
    }
  ]
}